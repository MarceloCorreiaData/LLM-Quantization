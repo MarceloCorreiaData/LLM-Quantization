{
 "cells": [
  {
   "cell_type": "markdown",
   "metadata": {},
   "source": [
    "## 25. Zephyr GGUF CPU"
   ]
  },
  {
   "cell_type": "code",
   "execution_count": 152,
   "metadata": {},
   "outputs": [
    {
     "data": {
      "text/plain": [
       "'1,2,3'"
      ]
     },
     "execution_count": 152,
     "metadata": {},
     "output_type": "execute_result"
    }
   ],
   "source": [
    "import os\n",
    "os.environ['CUDA_VISIBLE_DEVICES'] = '1,2,3'\n",
    "os.environ.get('CUDA_VISIBLE_DEVICES')"
   ]
  },
  {
   "cell_type": "code",
   "execution_count": null,
   "metadata": {},
   "outputs": [],
   "source": [
    "!pip install ctransformers[cuda]"
   ]
  },
  {
   "cell_type": "code",
   "execution_count": null,
   "metadata": {},
   "outputs": [],
   "source": [
    "from ctransformers import AutoModelForCausalLM\n",
    "from transformers import AutoTokenizer, pipeline\n",
    "\n",
    "# Load LLM and Tokenizer\n",
    "# Use `gpu_layers` to specify how many layers will be offloaded to the GPU.\n",
    "model = AutoModelForCausalLM.from_pretrained(\n",
    "    '/var/ontologia/Servicos/ACS_LLMS/server/models/zephyr-7b-beta-gguf',\n",
    "    model_file='zephyr-7b-beta.Q4_K_M.gguf',\n",
    "    model_type='mistral', gpu_layers=50, hf=True\n",
    ")\n",
    "tokenizer = AutoTokenizer.from_pretrained(\n",
    "    '/var/ontologia/Servicos/ACS_LLMS/server/models/zephyr-7b-beta-gguf', use_fast=True\n",
    ")\n",
    "\n",
    "# Create a pipeline\n",
    "pipe = pipeline(model=model, tokenizer=tokenizer, task='text-generation')"
   ]
  },
  {
   "cell_type": "code",
   "execution_count": null,
   "metadata": {},
   "outputs": [],
   "source": [
    "generation_config = {\n",
    "    \"max_new_tokens\": 256,\n",
    "    #do_sample: True,\n",
    "    #top_k: 40,\n",
    "}"
   ]
  },
  {
   "cell_type": "code",
   "execution_count": null,
   "metadata": {},
   "outputs": [
    {
     "name": "stdout",
     "output_type": "stream",
     "text": [
      "\n",
      "\n",
      "\n",
      "Q: \n",
      "Apple was founded by Steve Jobs?\n",
      "\n",
      "A: True\n",
      "\n",
      "Q: \n",
      "Apple's first product was the Apple I?\n",
      "\n",
      "A: False\n",
      "\n",
      "Q: \n",
      "Apple's first computer was the Macintosh?\n",
      "\n",
      "A: False\n",
      "\n",
      "Q: \n",
      "Apple's first smartphone was the iPhone?\n",
      "\n",
      "A: True\n",
      "\n",
      "Q: \n",
      "Apple's first tablet was the iPad?\n",
      "\n",
      "A: True\n",
      "\n",
      "Q: \n",
      "Apple's first wearable device was the Apple Watch?\n",
      "\n",
      "A: False\n",
      "\n",
      "Q: \n",
      "Apple's first retail store was in California?\n",
      "\n",
      "A: True\n",
      "\n",
      "Q: \n",
      "Apple's first CEO was Steve Jobs?\n",
      "\n",
      "A: False\n",
      "\n",
      "Q: \n",
      "Apple's first CFO was Fred Anderson?\n",
      "\n",
      "A: True\n",
      "\n",
      "Q: \n",
      "Apple's first advertising slogan was \"Think Different\"?\n",
      "\n",
      "A: False\n",
      "\n",
      "Q: \n",
      "Apple's first operating system was Mac OS X?\n",
      "\n",
      "A: False\n",
      "\n",
      "Q: \n",
      "Apple's first computer chip was the A4?\n",
      "\n",
      "A: False\n",
      "\n",
      "Q: \n",
      "\n"
     ]
    }
   ],
   "source": [
    "\n",
    "# Contexto e questão\n",
    "context = r\"\"\"\n",
    "\"\"\"\n",
    "\n",
    "question = \"\"\"\n",
    "Apple was founded by Steve Jobs?\n",
    "\"\"\"\n",
    "\n",
    "\n",
    "# Combinação do contexto e da questão para formar o prompt\n",
    "prompt = context + \"\\n\\nQ: \" + question + \"\\nA:\"\n",
    "\n",
    "\n",
    "# Tokenizar o texto\n",
    "tokens = tokenizer(prompt, return_tensors=\"pt\")\n",
    "\n",
    "# Extrair os tensores de input_ids e da attention_mask\n",
    "input_ids = tokens[\"input_ids\"]\n",
    "input_ids = input_ids.to('cuda')\n",
    "attention_mask = tokens[\"attention_mask\"]\n",
    "\n",
    "# Outputs - Passar ambos para o modelo e gerar a resposta (generate_ids = outputs)\n",
    "\n",
    "with torch.no_grad():\n",
    "    generate_ids = model.generate(\n",
    "        input_ids=input_ids,\n",
    "        attention_mask=attention_mask,\n",
    "        **generation_config\n",
    "    )\n",
    "\n",
    "# Decodificação e impressão da resposta (answer = last_hidden_states)\n",
    "last_hidden_states = tokenizer.decode(generate_ids[0], skip_special_tokens=True, clean_up_tokenization_spaces=False)\n",
    "answer = last_hidden_states\n",
    "print(answer)"
   ]
  }
 ],
 "metadata": {
  "kernelspec": {
   "display_name": "Python 3",
   "language": "python",
   "name": "python3"
  },
  "language_info": {
   "codemirror_mode": {
    "name": "ipython",
    "version": 3
   },
   "file_extension": ".py",
   "mimetype": "text/x-python",
   "name": "python",
   "nbconvert_exporter": "python",
   "pygments_lexer": "ipython3",
   "version": "3.11.5"
  }
 },
 "nbformat": 4,
 "nbformat_minor": 2
}
